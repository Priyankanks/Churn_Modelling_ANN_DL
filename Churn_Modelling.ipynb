{
 "cells": [
  {
   "cell_type": "code",
   "execution_count": 58,
   "id": "introductory-artist",
   "metadata": {},
   "outputs": [],
   "source": [
    "import numpy as np\n",
    "import pandas as pd\n",
    "import matplotlib.pyplot as plt\n",
    "import tensorflow as tf\n",
    "import keras\n",
    "from keras.models import Sequential # create basic ANN model\n",
    "from keras.layers import Dense # for hidden layers\n",
    "from keras.layers import Dropout # to avoid overfitting\n",
    "from keras.layers import PReLU, LeakyReLU,ELU # activation functions\n",
    "from sklearn.model_selection import train_test_split\n",
    "from sklearn.preprocessing import StandardScaler\n",
    "from sklearn.metrics import confusion_matrix, accuracy_score"
   ]
  },
  {
   "cell_type": "code",
   "execution_count": 59,
   "id": "final-repair",
   "metadata": {},
   "outputs": [],
   "source": [
    "# importing the data\n",
    "data = pd.read_csv('Churn_Modelling.csv')"
   ]
  },
  {
   "cell_type": "code",
   "execution_count": 60,
   "id": "referenced-proposition",
   "metadata": {},
   "outputs": [
    {
     "data": {
      "text/html": [
       "<div>\n",
       "<style scoped>\n",
       "    .dataframe tbody tr th:only-of-type {\n",
       "        vertical-align: middle;\n",
       "    }\n",
       "\n",
       "    .dataframe tbody tr th {\n",
       "        vertical-align: top;\n",
       "    }\n",
       "\n",
       "    .dataframe thead th {\n",
       "        text-align: right;\n",
       "    }\n",
       "</style>\n",
       "<table border=\"1\" class=\"dataframe\">\n",
       "  <thead>\n",
       "    <tr style=\"text-align: right;\">\n",
       "      <th></th>\n",
       "      <th>RowNumber</th>\n",
       "      <th>CustomerId</th>\n",
       "      <th>Surname</th>\n",
       "      <th>CreditScore</th>\n",
       "      <th>Geography</th>\n",
       "      <th>Gender</th>\n",
       "      <th>Age</th>\n",
       "      <th>Tenure</th>\n",
       "      <th>Balance</th>\n",
       "      <th>NumOfProducts</th>\n",
       "      <th>HasCrCard</th>\n",
       "      <th>IsActiveMember</th>\n",
       "      <th>EstimatedSalary</th>\n",
       "      <th>Exited</th>\n",
       "    </tr>\n",
       "  </thead>\n",
       "  <tbody>\n",
       "    <tr>\n",
       "      <th>0</th>\n",
       "      <td>1</td>\n",
       "      <td>15634602</td>\n",
       "      <td>Hargrave</td>\n",
       "      <td>619</td>\n",
       "      <td>France</td>\n",
       "      <td>Female</td>\n",
       "      <td>42</td>\n",
       "      <td>2</td>\n",
       "      <td>0.00</td>\n",
       "      <td>1</td>\n",
       "      <td>1</td>\n",
       "      <td>1</td>\n",
       "      <td>101348.88</td>\n",
       "      <td>1</td>\n",
       "    </tr>\n",
       "    <tr>\n",
       "      <th>1</th>\n",
       "      <td>2</td>\n",
       "      <td>15647311</td>\n",
       "      <td>Hill</td>\n",
       "      <td>608</td>\n",
       "      <td>Spain</td>\n",
       "      <td>Female</td>\n",
       "      <td>41</td>\n",
       "      <td>1</td>\n",
       "      <td>83807.86</td>\n",
       "      <td>1</td>\n",
       "      <td>0</td>\n",
       "      <td>1</td>\n",
       "      <td>112542.58</td>\n",
       "      <td>0</td>\n",
       "    </tr>\n",
       "    <tr>\n",
       "      <th>2</th>\n",
       "      <td>3</td>\n",
       "      <td>15619304</td>\n",
       "      <td>Onio</td>\n",
       "      <td>502</td>\n",
       "      <td>France</td>\n",
       "      <td>Female</td>\n",
       "      <td>42</td>\n",
       "      <td>8</td>\n",
       "      <td>159660.80</td>\n",
       "      <td>3</td>\n",
       "      <td>1</td>\n",
       "      <td>0</td>\n",
       "      <td>113931.57</td>\n",
       "      <td>1</td>\n",
       "    </tr>\n",
       "    <tr>\n",
       "      <th>3</th>\n",
       "      <td>4</td>\n",
       "      <td>15701354</td>\n",
       "      <td>Boni</td>\n",
       "      <td>699</td>\n",
       "      <td>France</td>\n",
       "      <td>Female</td>\n",
       "      <td>39</td>\n",
       "      <td>1</td>\n",
       "      <td>0.00</td>\n",
       "      <td>2</td>\n",
       "      <td>0</td>\n",
       "      <td>0</td>\n",
       "      <td>93826.63</td>\n",
       "      <td>0</td>\n",
       "    </tr>\n",
       "    <tr>\n",
       "      <th>4</th>\n",
       "      <td>5</td>\n",
       "      <td>15737888</td>\n",
       "      <td>Mitchell</td>\n",
       "      <td>850</td>\n",
       "      <td>Spain</td>\n",
       "      <td>Female</td>\n",
       "      <td>43</td>\n",
       "      <td>2</td>\n",
       "      <td>125510.82</td>\n",
       "      <td>1</td>\n",
       "      <td>1</td>\n",
       "      <td>1</td>\n",
       "      <td>79084.10</td>\n",
       "      <td>0</td>\n",
       "    </tr>\n",
       "  </tbody>\n",
       "</table>\n",
       "</div>"
      ],
      "text/plain": [
       "   RowNumber  CustomerId   Surname  CreditScore Geography  Gender  Age  \\\n",
       "0          1    15634602  Hargrave          619    France  Female   42   \n",
       "1          2    15647311      Hill          608     Spain  Female   41   \n",
       "2          3    15619304      Onio          502    France  Female   42   \n",
       "3          4    15701354      Boni          699    France  Female   39   \n",
       "4          5    15737888  Mitchell          850     Spain  Female   43   \n",
       "\n",
       "   Tenure    Balance  NumOfProducts  HasCrCard  IsActiveMember  \\\n",
       "0       2       0.00              1          1               1   \n",
       "1       1   83807.86              1          0               1   \n",
       "2       8  159660.80              3          1               0   \n",
       "3       1       0.00              2          0               0   \n",
       "4       2  125510.82              1          1               1   \n",
       "\n",
       "   EstimatedSalary  Exited  \n",
       "0        101348.88       1  \n",
       "1        112542.58       0  \n",
       "2        113931.57       1  \n",
       "3         93826.63       0  \n",
       "4         79084.10       0  "
      ]
     },
     "execution_count": 60,
     "metadata": {},
     "output_type": "execute_result"
    }
   ],
   "source": [
    "data.head()"
   ]
  },
  {
   "cell_type": "code",
   "execution_count": 61,
   "id": "loaded-trinidad",
   "metadata": {},
   "outputs": [],
   "source": [
    "# Splitting the data into dependent and independent variable\n",
    "\n",
    "X = data.iloc[:,3:13]\n",
    "y = data.iloc[:,-1]"
   ]
  },
  {
   "cell_type": "code",
   "execution_count": 62,
   "id": "imperial-screening",
   "metadata": {},
   "outputs": [],
   "source": [
    "# Creating dummmies for the categorial feature\n",
    "\n",
    "geo = pd.get_dummies(X.Geography, drop_first = True)\n",
    "gen = pd.get_dummies(X.Gender, drop_first = True)"
   ]
  },
  {
   "cell_type": "code",
   "execution_count": 63,
   "id": "durable-convention",
   "metadata": {},
   "outputs": [],
   "source": [
    "# Concat the dummy variables"
   ]
  },
  {
   "cell_type": "code",
   "execution_count": 64,
   "id": "criminal-essence",
   "metadata": {},
   "outputs": [],
   "source": [
    "X = pd.concat([X,geo,gen], axis = 1)"
   ]
  },
  {
   "cell_type": "code",
   "execution_count": 65,
   "id": "basic-music",
   "metadata": {},
   "outputs": [],
   "source": [
    "X = X.drop(['Geography','Gender'], axis= 1)"
   ]
  },
  {
   "cell_type": "code",
   "execution_count": 66,
   "id": "civic-grace",
   "metadata": {},
   "outputs": [
    {
     "data": {
      "text/html": [
       "<div>\n",
       "<style scoped>\n",
       "    .dataframe tbody tr th:only-of-type {\n",
       "        vertical-align: middle;\n",
       "    }\n",
       "\n",
       "    .dataframe tbody tr th {\n",
       "        vertical-align: top;\n",
       "    }\n",
       "\n",
       "    .dataframe thead th {\n",
       "        text-align: right;\n",
       "    }\n",
       "</style>\n",
       "<table border=\"1\" class=\"dataframe\">\n",
       "  <thead>\n",
       "    <tr style=\"text-align: right;\">\n",
       "      <th></th>\n",
       "      <th>CreditScore</th>\n",
       "      <th>Age</th>\n",
       "      <th>Tenure</th>\n",
       "      <th>Balance</th>\n",
       "      <th>NumOfProducts</th>\n",
       "      <th>HasCrCard</th>\n",
       "      <th>IsActiveMember</th>\n",
       "      <th>EstimatedSalary</th>\n",
       "      <th>Germany</th>\n",
       "      <th>Spain</th>\n",
       "      <th>Male</th>\n",
       "    </tr>\n",
       "  </thead>\n",
       "  <tbody>\n",
       "    <tr>\n",
       "      <th>0</th>\n",
       "      <td>619</td>\n",
       "      <td>42</td>\n",
       "      <td>2</td>\n",
       "      <td>0.00</td>\n",
       "      <td>1</td>\n",
       "      <td>1</td>\n",
       "      <td>1</td>\n",
       "      <td>101348.88</td>\n",
       "      <td>0</td>\n",
       "      <td>0</td>\n",
       "      <td>0</td>\n",
       "    </tr>\n",
       "    <tr>\n",
       "      <th>1</th>\n",
       "      <td>608</td>\n",
       "      <td>41</td>\n",
       "      <td>1</td>\n",
       "      <td>83807.86</td>\n",
       "      <td>1</td>\n",
       "      <td>0</td>\n",
       "      <td>1</td>\n",
       "      <td>112542.58</td>\n",
       "      <td>0</td>\n",
       "      <td>1</td>\n",
       "      <td>0</td>\n",
       "    </tr>\n",
       "    <tr>\n",
       "      <th>2</th>\n",
       "      <td>502</td>\n",
       "      <td>42</td>\n",
       "      <td>8</td>\n",
       "      <td>159660.80</td>\n",
       "      <td>3</td>\n",
       "      <td>1</td>\n",
       "      <td>0</td>\n",
       "      <td>113931.57</td>\n",
       "      <td>0</td>\n",
       "      <td>0</td>\n",
       "      <td>0</td>\n",
       "    </tr>\n",
       "    <tr>\n",
       "      <th>3</th>\n",
       "      <td>699</td>\n",
       "      <td>39</td>\n",
       "      <td>1</td>\n",
       "      <td>0.00</td>\n",
       "      <td>2</td>\n",
       "      <td>0</td>\n",
       "      <td>0</td>\n",
       "      <td>93826.63</td>\n",
       "      <td>0</td>\n",
       "      <td>0</td>\n",
       "      <td>0</td>\n",
       "    </tr>\n",
       "    <tr>\n",
       "      <th>4</th>\n",
       "      <td>850</td>\n",
       "      <td>43</td>\n",
       "      <td>2</td>\n",
       "      <td>125510.82</td>\n",
       "      <td>1</td>\n",
       "      <td>1</td>\n",
       "      <td>1</td>\n",
       "      <td>79084.10</td>\n",
       "      <td>0</td>\n",
       "      <td>1</td>\n",
       "      <td>0</td>\n",
       "    </tr>\n",
       "  </tbody>\n",
       "</table>\n",
       "</div>"
      ],
      "text/plain": [
       "   CreditScore  Age  Tenure    Balance  NumOfProducts  HasCrCard  \\\n",
       "0          619   42       2       0.00              1          1   \n",
       "1          608   41       1   83807.86              1          0   \n",
       "2          502   42       8  159660.80              3          1   \n",
       "3          699   39       1       0.00              2          0   \n",
       "4          850   43       2  125510.82              1          1   \n",
       "\n",
       "   IsActiveMember  EstimatedSalary  Germany  Spain  Male  \n",
       "0               1        101348.88        0      0     0  \n",
       "1               1        112542.58        0      1     0  \n",
       "2               0        113931.57        0      0     0  \n",
       "3               0         93826.63        0      0     0  \n",
       "4               1         79084.10        0      1     0  "
      ]
     },
     "execution_count": 66,
     "metadata": {},
     "output_type": "execute_result"
    }
   ],
   "source": [
    "X.head()"
   ]
  },
  {
   "cell_type": "code",
   "execution_count": 67,
   "id": "different-princess",
   "metadata": {},
   "outputs": [],
   "source": [
    "# Splitting the dataset into train test split\n",
    "\n",
    "X_train,X_test,y_train,y_test = train_test_split(X,y, test_size = 0.3, random_state = 0)"
   ]
  },
  {
   "cell_type": "code",
   "execution_count": 68,
   "id": "secondary-emphasis",
   "metadata": {},
   "outputs": [],
   "source": [
    "# Fearure scling has to be performed to reduce the computation time\n",
    "\n",
    "scale = StandardScaler()\n",
    "X_train = scale.fit_transform(X_train)\n",
    "X_test = scale.transform(X_test)"
   ]
  },
  {
   "cell_type": "code",
   "execution_count": 69,
   "id": "middle-latvia",
   "metadata": {},
   "outputs": [],
   "source": [
    "# Initialising the ANN\n",
    "\n",
    "ann = Sequential()"
   ]
  },
  {
   "cell_type": "code",
   "execution_count": 70,
   "id": "varying-mexican",
   "metadata": {},
   "outputs": [],
   "source": [
    "# Adding the input layer and the first hidden layer\n",
    "\n",
    "ann.add(Dense(input_dim = 11, units = 6, kernel_initializer = 'he_uniform', activation = 'relu' ))"
   ]
  },
  {
   "cell_type": "code",
   "execution_count": 71,
   "id": "certain-monroe",
   "metadata": {},
   "outputs": [],
   "source": [
    "# Adding second hidden layer\n",
    "\n",
    "ann.add(Dense(units = 6, kernel_initializer = 'he_uniform', activation = 'relu'))"
   ]
  },
  {
   "cell_type": "code",
   "execution_count": 72,
   "id": "behavioral-wellington",
   "metadata": {},
   "outputs": [],
   "source": [
    "# output layer\n",
    "\n",
    "ann.add(Dense(units = 1, kernel_initializer = 'glorot_uniform', activation = 'sigmoid'))"
   ]
  },
  {
   "cell_type": "code",
   "execution_count": 73,
   "id": "experimental-jimmy",
   "metadata": {},
   "outputs": [],
   "source": [
    "# Compiling the ann\n",
    "\n",
    "ann.compile(optimizer = 'Adamax', loss = 'binary_crossentropy', metrics = ['accuracy'])"
   ]
  },
  {
   "cell_type": "code",
   "execution_count": 74,
   "id": "excess-decimal",
   "metadata": {},
   "outputs": [
    {
     "name": "stdout",
     "output_type": "stream",
     "text": [
      "Epoch 1/100\n",
      "469/469 [==============================] - 2s 2ms/step - loss: 0.5432 - accuracy: 0.7673 - val_loss: 0.5004 - val_accuracy: 0.8057\n",
      "Epoch 2/100\n",
      "469/469 [==============================] - 1s 2ms/step - loss: 0.4910 - accuracy: 0.8060 - val_loss: 0.4815 - val_accuracy: 0.8092\n",
      "Epoch 3/100\n",
      "469/469 [==============================] - 1s 3ms/step - loss: 0.4718 - accuracy: 0.8068 - val_loss: 0.4692 - val_accuracy: 0.8092\n",
      "Epoch 4/100\n",
      "469/469 [==============================] - 2s 4ms/step - loss: 0.4579 - accuracy: 0.8120 - val_loss: 0.4610 - val_accuracy: 0.8113\n",
      "Epoch 5/100\n",
      "469/469 [==============================] - 1s 2ms/step - loss: 0.4308 - accuracy: 0.8254 - val_loss: 0.4553 - val_accuracy: 0.8170\n",
      "Epoch 6/100\n",
      "469/469 [==============================] - 1s 3ms/step - loss: 0.4286 - accuracy: 0.8214 - val_loss: 0.4514 - val_accuracy: 0.8174\n",
      "Epoch 7/100\n",
      "469/469 [==============================] - 2s 3ms/step - loss: 0.4300 - accuracy: 0.8119 - val_loss: 0.4487 - val_accuracy: 0.8191\n",
      "Epoch 8/100\n",
      "469/469 [==============================] - 1s 3ms/step - loss: 0.4290 - accuracy: 0.8139 - val_loss: 0.4465 - val_accuracy: 0.8187\n",
      "Epoch 9/100\n",
      "469/469 [==============================] - 1s 3ms/step - loss: 0.4428 - accuracy: 0.8114 - val_loss: 0.4451 - val_accuracy: 0.8191\n",
      "Epoch 10/100\n",
      "469/469 [==============================] - 1s 3ms/step - loss: 0.4283 - accuracy: 0.8180 - val_loss: 0.4436 - val_accuracy: 0.8204\n",
      "Epoch 11/100\n",
      "469/469 [==============================] - 2s 4ms/step - loss: 0.4123 - accuracy: 0.8270 - val_loss: 0.4423 - val_accuracy: 0.8187\n",
      "Epoch 12/100\n",
      "469/469 [==============================] - 2s 3ms/step - loss: 0.4151 - accuracy: 0.8223 - val_loss: 0.4413 - val_accuracy: 0.8187\n",
      "Epoch 13/100\n",
      "469/469 [==============================] - 2s 4ms/step - loss: 0.4221 - accuracy: 0.8226 - val_loss: 0.4406 - val_accuracy: 0.8204\n",
      "Epoch 14/100\n",
      "469/469 [==============================] - 2s 3ms/step - loss: 0.4278 - accuracy: 0.8229 - val_loss: 0.4400 - val_accuracy: 0.8209\n",
      "Epoch 15/100\n",
      "469/469 [==============================] - 2s 3ms/step - loss: 0.4210 - accuracy: 0.8201 - val_loss: 0.4393 - val_accuracy: 0.8200\n",
      "Epoch 16/100\n",
      "469/469 [==============================] - 1s 2ms/step - loss: 0.4244 - accuracy: 0.8242 - val_loss: 0.4387 - val_accuracy: 0.8209\n",
      "Epoch 17/100\n",
      "469/469 [==============================] - 1s 3ms/step - loss: 0.4422 - accuracy: 0.8155 - val_loss: 0.4380 - val_accuracy: 0.8191\n",
      "Epoch 18/100\n",
      "469/469 [==============================] - 2s 4ms/step - loss: 0.4100 - accuracy: 0.8314 - val_loss: 0.4374 - val_accuracy: 0.8178\n",
      "Epoch 19/100\n",
      "469/469 [==============================] - 1s 3ms/step - loss: 0.4132 - accuracy: 0.8232 - val_loss: 0.4369 - val_accuracy: 0.8187\n",
      "Epoch 20/100\n",
      "469/469 [==============================] - 2s 4ms/step - loss: 0.4170 - accuracy: 0.8279 - val_loss: 0.4362 - val_accuracy: 0.8187\n",
      "Epoch 21/100\n",
      "469/469 [==============================] - 1s 2ms/step - loss: 0.4191 - accuracy: 0.8198 - val_loss: 0.4357 - val_accuracy: 0.8196\n",
      "Epoch 22/100\n",
      "469/469 [==============================] - 2s 3ms/step - loss: 0.4178 - accuracy: 0.8213 - val_loss: 0.4352 - val_accuracy: 0.8191\n",
      "Epoch 23/100\n",
      "469/469 [==============================] - 1s 3ms/step - loss: 0.4078 - accuracy: 0.8313 - val_loss: 0.4345 - val_accuracy: 0.8187\n",
      "Epoch 24/100\n",
      "469/469 [==============================] - 2s 4ms/step - loss: 0.4105 - accuracy: 0.8258 - val_loss: 0.4339 - val_accuracy: 0.8183\n",
      "Epoch 25/100\n",
      "469/469 [==============================] - 2s 3ms/step - loss: 0.4056 - accuracy: 0.8284 - val_loss: 0.4332 - val_accuracy: 0.8170\n",
      "Epoch 26/100\n",
      "469/469 [==============================] - 2s 4ms/step - loss: 0.4128 - accuracy: 0.8255 - val_loss: 0.4326 - val_accuracy: 0.8165\n",
      "Epoch 27/100\n",
      "469/469 [==============================] - 2s 4ms/step - loss: 0.4204 - accuracy: 0.8152 - val_loss: 0.4323 - val_accuracy: 0.8165\n",
      "Epoch 28/100\n",
      "469/469 [==============================] - 2s 3ms/step - loss: 0.3959 - accuracy: 0.8357 - val_loss: 0.4316 - val_accuracy: 0.8157\n",
      "Epoch 29/100\n",
      "469/469 [==============================] - 2s 3ms/step - loss: 0.4146 - accuracy: 0.8259 - val_loss: 0.4311 - val_accuracy: 0.8178\n",
      "Epoch 30/100\n",
      "469/469 [==============================] - 2s 3ms/step - loss: 0.4182 - accuracy: 0.8247 - val_loss: 0.4305 - val_accuracy: 0.8157\n",
      "Epoch 31/100\n",
      "469/469 [==============================] - 1s 3ms/step - loss: 0.4080 - accuracy: 0.8327 - val_loss: 0.4297 - val_accuracy: 0.8152\n",
      "Epoch 32/100\n",
      "469/469 [==============================] - 2s 4ms/step - loss: 0.4157 - accuracy: 0.8209 - val_loss: 0.4294 - val_accuracy: 0.8157\n",
      "Epoch 33/100\n",
      "469/469 [==============================] - 1s 3ms/step - loss: 0.4146 - accuracy: 0.8215 - val_loss: 0.4289 - val_accuracy: 0.8174\n",
      "Epoch 34/100\n",
      "469/469 [==============================] - 1s 3ms/step - loss: 0.4078 - accuracy: 0.8252 - val_loss: 0.4281 - val_accuracy: 0.8165\n",
      "Epoch 35/100\n",
      "469/469 [==============================] - 2s 4ms/step - loss: 0.4046 - accuracy: 0.8272 - val_loss: 0.4274 - val_accuracy: 0.8183\n",
      "Epoch 36/100\n",
      "469/469 [==============================] - 1s 3ms/step - loss: 0.4053 - accuracy: 0.8332 - val_loss: 0.4270 - val_accuracy: 0.8191\n",
      "Epoch 37/100\n",
      "469/469 [==============================] - 1s 3ms/step - loss: 0.4151 - accuracy: 0.8240 - val_loss: 0.4266 - val_accuracy: 0.8196\n",
      "Epoch 38/100\n",
      "469/469 [==============================] - 1s 3ms/step - loss: 0.4010 - accuracy: 0.8300 - val_loss: 0.4259 - val_accuracy: 0.8191\n",
      "Epoch 39/100\n",
      "469/469 [==============================] - 1s 3ms/step - loss: 0.3984 - accuracy: 0.8322 - val_loss: 0.4251 - val_accuracy: 0.8191\n",
      "Epoch 40/100\n",
      "469/469 [==============================] - 1s 2ms/step - loss: 0.3998 - accuracy: 0.8293 - val_loss: 0.4245 - val_accuracy: 0.8183\n",
      "Epoch 41/100\n",
      "469/469 [==============================] - 2s 3ms/step - loss: 0.3930 - accuracy: 0.8309 - val_loss: 0.4239 - val_accuracy: 0.8170\n",
      "Epoch 42/100\n",
      "469/469 [==============================] - 1s 3ms/step - loss: 0.4208 - accuracy: 0.8192 - val_loss: 0.4235 - val_accuracy: 0.8196\n",
      "Epoch 43/100\n",
      "469/469 [==============================] - 1s 3ms/step - loss: 0.3842 - accuracy: 0.8405 - val_loss: 0.4228 - val_accuracy: 0.8178\n",
      "Epoch 44/100\n",
      "469/469 [==============================] - 2s 3ms/step - loss: 0.3791 - accuracy: 0.8417 - val_loss: 0.4219 - val_accuracy: 0.8174\n",
      "Epoch 45/100\n",
      "469/469 [==============================] - 2s 4ms/step - loss: 0.3934 - accuracy: 0.8336 - val_loss: 0.4213 - val_accuracy: 0.8196\n",
      "Epoch 46/100\n",
      "469/469 [==============================] - 2s 3ms/step - loss: 0.3888 - accuracy: 0.8360 - val_loss: 0.4204 - val_accuracy: 0.8196\n",
      "Epoch 47/100\n",
      "469/469 [==============================] - 2s 3ms/step - loss: 0.3802 - accuracy: 0.8448 - val_loss: 0.4200 - val_accuracy: 0.8200\n",
      "Epoch 48/100\n",
      "469/469 [==============================] - 2s 4ms/step - loss: 0.3947 - accuracy: 0.8300 - val_loss: 0.4193 - val_accuracy: 0.8200\n",
      "Epoch 49/100\n",
      "469/469 [==============================] - 2s 3ms/step - loss: 0.3931 - accuracy: 0.8310 - val_loss: 0.4185 - val_accuracy: 0.8204\n",
      "Epoch 50/100\n",
      "469/469 [==============================] - 2s 4ms/step - loss: 0.4026 - accuracy: 0.8205 - val_loss: 0.4175 - val_accuracy: 0.8213\n",
      "Epoch 51/100\n",
      "469/469 [==============================] - 2s 3ms/step - loss: 0.3917 - accuracy: 0.8319 - val_loss: 0.4172 - val_accuracy: 0.8222\n",
      "Epoch 52/100\n",
      "469/469 [==============================] - 1s 3ms/step - loss: 0.3794 - accuracy: 0.8362 - val_loss: 0.4163 - val_accuracy: 0.8226\n",
      "Epoch 53/100\n",
      "469/469 [==============================] - 2s 3ms/step - loss: 0.3915 - accuracy: 0.8319 - val_loss: 0.4156 - val_accuracy: 0.8226\n",
      "Epoch 54/100\n",
      "469/469 [==============================] - 2s 4ms/step - loss: 0.4024 - accuracy: 0.8268 - val_loss: 0.4151 - val_accuracy: 0.8239\n",
      "Epoch 55/100\n",
      "469/469 [==============================] - 2s 3ms/step - loss: 0.3825 - accuracy: 0.8385 - val_loss: 0.4144 - val_accuracy: 0.8239\n",
      "Epoch 56/100\n",
      "469/469 [==============================] - 2s 4ms/step - loss: 0.4027 - accuracy: 0.8205 - val_loss: 0.4138 - val_accuracy: 0.8239\n",
      "Epoch 57/100\n",
      "469/469 [==============================] - 2s 4ms/step - loss: 0.3803 - accuracy: 0.8337 - val_loss: 0.4128 - val_accuracy: 0.8239\n"
     ]
    },
    {
     "name": "stdout",
     "output_type": "stream",
     "text": [
      "Epoch 58/100\n",
      "469/469 [==============================] - 1s 3ms/step - loss: 0.3800 - accuracy: 0.8410 - val_loss: 0.4122 - val_accuracy: 0.8235\n",
      "Epoch 59/100\n",
      "469/469 [==============================] - 1s 3ms/step - loss: 0.3900 - accuracy: 0.8323 - val_loss: 0.4113 - val_accuracy: 0.8256\n",
      "Epoch 60/100\n",
      "469/469 [==============================] - 1s 3ms/step - loss: 0.3812 - accuracy: 0.8318 - val_loss: 0.4104 - val_accuracy: 0.8260\n",
      "Epoch 61/100\n",
      "469/469 [==============================] - 1s 3ms/step - loss: 0.3780 - accuracy: 0.8342 - val_loss: 0.4094 - val_accuracy: 0.8260\n",
      "Epoch 62/100\n",
      "469/469 [==============================] - 2s 4ms/step - loss: 0.3851 - accuracy: 0.8354 - val_loss: 0.4087 - val_accuracy: 0.8252\n",
      "Epoch 63/100\n",
      "469/469 [==============================] - 1s 3ms/step - loss: 0.3924 - accuracy: 0.8310 - val_loss: 0.4082 - val_accuracy: 0.8239\n",
      "Epoch 64/100\n",
      "469/469 [==============================] - 2s 4ms/step - loss: 0.3777 - accuracy: 0.8335 - val_loss: 0.4074 - val_accuracy: 0.8239\n",
      "Epoch 65/100\n",
      "469/469 [==============================] - 2s 3ms/step - loss: 0.3699 - accuracy: 0.8363 - val_loss: 0.4067 - val_accuracy: 0.8248\n",
      "Epoch 66/100\n",
      "469/469 [==============================] - 2s 3ms/step - loss: 0.3788 - accuracy: 0.8372 - val_loss: 0.4061 - val_accuracy: 0.8226\n",
      "Epoch 67/100\n",
      "469/469 [==============================] - 2s 3ms/step - loss: 0.3844 - accuracy: 0.8309 - val_loss: 0.4054 - val_accuracy: 0.8235\n",
      "Epoch 68/100\n",
      "469/469 [==============================] - 2s 4ms/step - loss: 0.3910 - accuracy: 0.8224 - val_loss: 0.4051 - val_accuracy: 0.8239\n",
      "Epoch 69/100\n",
      "469/469 [==============================] - 2s 4ms/step - loss: 0.3735 - accuracy: 0.8429 - val_loss: 0.4042 - val_accuracy: 0.8230\n",
      "Epoch 70/100\n",
      "469/469 [==============================] - 2s 4ms/step - loss: 0.3718 - accuracy: 0.8354 - val_loss: 0.4035 - val_accuracy: 0.8226\n",
      "Epoch 71/100\n",
      "469/469 [==============================] - 2s 3ms/step - loss: 0.3611 - accuracy: 0.8391 - val_loss: 0.4027 - val_accuracy: 0.8226\n",
      "Epoch 72/100\n",
      "469/469 [==============================] - 1s 2ms/step - loss: 0.3972 - accuracy: 0.8268 - val_loss: 0.4023 - val_accuracy: 0.8235\n",
      "Epoch 73/100\n",
      "469/469 [==============================] - 2s 3ms/step - loss: 0.3762 - accuracy: 0.8381 - val_loss: 0.4013 - val_accuracy: 0.8230\n",
      "Epoch 74/100\n",
      "469/469 [==============================] - 1s 2ms/step - loss: 0.3764 - accuracy: 0.8397 - val_loss: 0.4004 - val_accuracy: 0.8213\n",
      "Epoch 75/100\n",
      "469/469 [==============================] - 2s 4ms/step - loss: 0.3692 - accuracy: 0.8366 - val_loss: 0.3994 - val_accuracy: 0.8235\n",
      "Epoch 76/100\n",
      "469/469 [==============================] - 1s 3ms/step - loss: 0.3648 - accuracy: 0.8392 - val_loss: 0.3989 - val_accuracy: 0.8256\n",
      "Epoch 77/100\n",
      "469/469 [==============================] - 2s 3ms/step - loss: 0.3809 - accuracy: 0.8332 - val_loss: 0.3982 - val_accuracy: 0.8269\n",
      "Epoch 78/100\n",
      "469/469 [==============================] - 2s 3ms/step - loss: 0.3616 - accuracy: 0.8428 - val_loss: 0.3975 - val_accuracy: 0.8269\n",
      "Epoch 79/100\n",
      "469/469 [==============================] - 2s 3ms/step - loss: 0.3608 - accuracy: 0.8451 - val_loss: 0.3966 - val_accuracy: 0.8278\n",
      "Epoch 80/100\n",
      "469/469 [==============================] - 2s 4ms/step - loss: 0.3728 - accuracy: 0.8351 - val_loss: 0.3962 - val_accuracy: 0.8286\n",
      "Epoch 81/100\n",
      "469/469 [==============================] - 2s 4ms/step - loss: 0.3798 - accuracy: 0.8330 - val_loss: 0.3957 - val_accuracy: 0.8304\n",
      "Epoch 82/100\n",
      "469/469 [==============================] - 1s 3ms/step - loss: 0.3785 - accuracy: 0.8317 - val_loss: 0.3948 - val_accuracy: 0.8312\n",
      "Epoch 83/100\n",
      "469/469 [==============================] - 1s 3ms/step - loss: 0.3591 - accuracy: 0.8441 - val_loss: 0.3940 - val_accuracy: 0.8291\n",
      "Epoch 84/100\n",
      "469/469 [==============================] - 2s 3ms/step - loss: 0.3583 - accuracy: 0.8483 - val_loss: 0.3932 - val_accuracy: 0.8299\n",
      "Epoch 85/100\n",
      "469/469 [==============================] - 2s 4ms/step - loss: 0.3598 - accuracy: 0.8455 - val_loss: 0.3926 - val_accuracy: 0.8317\n",
      "Epoch 86/100\n",
      "469/469 [==============================] - 2s 4ms/step - loss: 0.3798 - accuracy: 0.8375 - val_loss: 0.3925 - val_accuracy: 0.8325\n",
      "Epoch 87/100\n",
      "469/469 [==============================] - 2s 4ms/step - loss: 0.3697 - accuracy: 0.8462 - val_loss: 0.3917 - val_accuracy: 0.8343\n",
      "Epoch 88/100\n",
      "469/469 [==============================] - 2s 4ms/step - loss: 0.3772 - accuracy: 0.8350 - val_loss: 0.3912 - val_accuracy: 0.8343\n",
      "Epoch 89/100\n",
      "469/469 [==============================] - 2s 4ms/step - loss: 0.3621 - accuracy: 0.8440 - val_loss: 0.3905 - val_accuracy: 0.8321\n",
      "Epoch 90/100\n",
      "469/469 [==============================] - 1s 2ms/step - loss: 0.3748 - accuracy: 0.8367 - val_loss: 0.3901 - val_accuracy: 0.8343\n",
      "Epoch 91/100\n",
      "469/469 [==============================] - 1s 3ms/step - loss: 0.3572 - accuracy: 0.8485 - val_loss: 0.3897 - val_accuracy: 0.8356\n",
      "Epoch 92/100\n",
      "469/469 [==============================] - 1s 3ms/step - loss: 0.3443 - accuracy: 0.8518 - val_loss: 0.3890 - val_accuracy: 0.8364\n",
      "Epoch 93/100\n",
      "469/469 [==============================] - 2s 4ms/step - loss: 0.3633 - accuracy: 0.8374 - val_loss: 0.3889 - val_accuracy: 0.8373\n",
      "Epoch 94/100\n",
      "469/469 [==============================] - 1s 3ms/step - loss: 0.3551 - accuracy: 0.8429 - val_loss: 0.3888 - val_accuracy: 0.8356\n",
      "Epoch 95/100\n",
      "469/469 [==============================] - 2s 3ms/step - loss: 0.3503 - accuracy: 0.8489 - val_loss: 0.3884 - val_accuracy: 0.8369\n",
      "Epoch 96/100\n",
      "469/469 [==============================] - 2s 3ms/step - loss: 0.3730 - accuracy: 0.8363 - val_loss: 0.3883 - val_accuracy: 0.8382\n",
      "Epoch 97/100\n",
      "469/469 [==============================] - 1s 3ms/step - loss: 0.3555 - accuracy: 0.8456 - val_loss: 0.3877 - val_accuracy: 0.8377\n",
      "Epoch 98/100\n",
      "469/469 [==============================] - 1s 3ms/step - loss: 0.3641 - accuracy: 0.8438 - val_loss: 0.3875 - val_accuracy: 0.8386\n",
      "Epoch 99/100\n",
      "469/469 [==============================] - 2s 4ms/step - loss: 0.3587 - accuracy: 0.8450 - val_loss: 0.3876 - val_accuracy: 0.8395\n",
      "Epoch 100/100\n",
      "469/469 [==============================] - 2s 3ms/step - loss: 0.3509 - accuracy: 0.8497 - val_loss: 0.3871 - val_accuracy: 0.8369\n"
     ]
    }
   ],
   "source": [
    "# Fitting the ANN to the training set\n",
    "\n",
    "model = ann.fit(X_train,y_train, validation_split = 0.33, batch_size = 10, epochs = 100)"
   ]
  },
  {
   "cell_type": "code",
   "execution_count": 84,
   "id": "intermediate-chrome",
   "metadata": {},
   "outputs": [
    {
     "data": {
      "text/plain": [
       "array([[False],\n",
       "       [False],\n",
       "       [False],\n",
       "       ...,\n",
       "       [False],\n",
       "       [False],\n",
       "       [False]])"
      ]
     },
     "execution_count": 84,
     "metadata": {},
     "output_type": "execute_result"
    }
   ],
   "source": [
    "# Predictions the model\n",
    "\n",
    "y_pred = ann.predict(X_test)\n",
    "y_pred = (y_pred > 0.5)\n",
    "y_pred"
   ]
  },
  {
   "cell_type": "code",
   "execution_count": 76,
   "id": "gentle-patrick",
   "metadata": {},
   "outputs": [
    {
     "data": {
      "text/plain": [
       "array([[2247,  132],\n",
       "       [ 336,  285]], dtype=int64)"
      ]
     },
     "execution_count": 76,
     "metadata": {},
     "output_type": "execute_result"
    }
   ],
   "source": [
    "# Confusion Matrix\n",
    "\n",
    "cm = confusion_matrix(y_test,y_pred)\n",
    "cm"
   ]
  },
  {
   "cell_type": "code",
   "execution_count": 85,
   "id": "addressed-independence",
   "metadata": {},
   "outputs": [
    {
     "data": {
      "text/plain": [
       "0.844"
      ]
     },
     "execution_count": 85,
     "metadata": {},
     "output_type": "execute_result"
    }
   ],
   "source": [
    "# Calculate the accurary\n",
    "\n",
    "score = accuracy_score(y_test,y_pred)\n",
    "score"
   ]
  },
  {
   "cell_type": "code",
   "execution_count": 78,
   "id": "danish-roommate",
   "metadata": {},
   "outputs": [
    {
     "name": "stdout",
     "output_type": "stream",
     "text": [
      "dict_keys(['loss', 'accuracy', 'val_loss', 'val_accuracy'])\n"
     ]
    }
   ],
   "source": [
    "# list all data in history\n",
    "\n",
    "print(model.history.keys())"
   ]
  },
  {
   "cell_type": "code",
   "execution_count": 80,
   "id": "marked-fighter",
   "metadata": {},
   "outputs": [
    {
     "data": {
      "image/png": "[encoded data removed]",
      "text/plain": [
       "<Figure size 432x288 with 1 Axes>"
      ]
     },
     "metadata": {
      "needs_background": "light"
     },
     "output_type": "display_data"
    }
   ],
   "source": [
    "# summarize history for accuracy\n",
    "\n",
    "plt.plot(model.history['accuracy'])\n",
    "plt.plot(model.history['val_accuracy'])\n",
    "plt.title('model accuracy')\n",
    "plt.ylabel('accuracy')\n",
    "plt.xlabel('epoch')\n",
    "plt.legend(['train', 'test'], loc='upper left')\n",
    "plt.show()"
   ]
  },
  {
   "cell_type": "code",
   "execution_count": 81,
   "id": "fleet-enemy",
   "metadata": {},
   "outputs": [
    {
     "data": {
      "image/png": "[encoded data removed]",
      "text/plain": [
       "<Figure size 432x288 with 1 Axes>"
      ]
     },
     "metadata": {
      "needs_background": "light"
     },
     "output_type": "display_data"
    }
   ],
   "source": [
    "# summarize history for loss\n",
    "\n",
    "plt.plot(model.history['loss'])\n",
    "plt.plot(model.history['val_loss'])\n",
    "plt.title('model loss')\n",
    "plt.ylabel('loss')\n",
    "plt.xlabel('epoch')\n",
    "plt.legend(['train', 'test'], loc='upper left')\n",
    "plt.show()"
   ]
  },
  {
   "cell_type": "code",
   "execution_count": null,
   "id": "facial-sensitivity",
   "metadata": {},
   "outputs": [],
   "source": []
  }
 ],
 "metadata": {
  "kernelspec": {
   "display_name": "Python 3",
   "language": "python",
   "name": "python3"
  },
  "language_info": {
   "codemirror_mode": {
    "name": "ipython",
    "version": 3
   },
   "file_extension": ".py",
   "mimetype": "text/x-python",
   "name": "python",
   "nbconvert_exporter": "python",
   "pygments_lexer": "ipython3",
   "version": "3.8.5"
  }
 },
 "nbformat": 4,
 "nbformat_minor": 5
}
